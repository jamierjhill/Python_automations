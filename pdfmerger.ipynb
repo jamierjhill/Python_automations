{
  "cells": [
    {
      "cell_type": "markdown",
      "metadata": {
        "colab_type": "text",
        "id": "view-in-github"
      },
      "source": [
        "<a href=\"https://colab.research.google.com/github/jamierjhill/Python_automations/blob/main/pdfmerger.ipynb\" target=\"_parent\"><img src=\"https://colab.research.google.com/assets/colab-badge.svg\" alt=\"Open In Colab\"/></a>"
      ]
    },
    {
      "cell_type": "code",
      "execution_count": 1,
      "metadata": {
        "colab": {
          "base_uri": "https://localhost:8080/",
          "height": 1000
        },
        "id": "v_ExIo5GERA5",
        "outputId": "311decda-ca5d-4de1-aae0-812492aa1fa4"
      },
      "outputs": [
        {
          "name": "stdout",
          "output_type": "stream",
          "text": [
            "Adding C:/Users/JamieHill/UNYBRANDS Operations Ltd/Brand Management - 10. Other Projects/35_CVR optimization _ Lore/CVR call/2025-02/brand tables/All_ub.pdf...\n",
            "Adding C:/Users/JamieHill/UNYBRANDS Operations Ltd/Brand Management - 10. Other Projects/35_CVR optimization _ Lore/CVR call/2025-02/brand tables/CVR Brand Tables 0_Beard Club.pdf...\n",
            "Adding C:/Users/JamieHill/UNYBRANDS Operations Ltd/Brand Management - 10. Other Projects/35_CVR optimization _ Lore/CVR call/2025-02/brand tables/CVR Brand Tables 0_Bramble.pdf...\n",
            "Adding C:/Users/JamieHill/UNYBRANDS Operations Ltd/Brand Management - 10. Other Projects/35_CVR optimization _ Lore/CVR call/2025-02/brand tables/CVR Brand Tables 0_Bryco.pdf...\n",
            "Adding C:/Users/JamieHill/UNYBRANDS Operations Ltd/Brand Management - 10. Other Projects/35_CVR optimization _ Lore/CVR call/2025-02/brand tables/CVR Brand Tables 0_Chuckle.pdf...\n",
            "Adding C:/Users/JamieHill/UNYBRANDS Operations Ltd/Brand Management - 10. Other Projects/35_CVR optimization _ Lore/CVR call/2025-02/brand tables/CVR Brand Tables 0_Clarks.pdf...\n",
            "Adding C:/Users/JamieHill/UNYBRANDS Operations Ltd/Brand Management - 10. Other Projects/35_CVR optimization _ Lore/CVR call/2025-02/brand tables/CVR Brand Tables 0_FurstenMED.pdf...\n",
            "Adding C:/Users/JamieHill/UNYBRANDS Operations Ltd/Brand Management - 10. Other Projects/35_CVR optimization _ Lore/CVR call/2025-02/brand tables/CVR Brand Tables 0_Haago.pdf...\n",
            "Adding C:/Users/JamieHill/UNYBRANDS Operations Ltd/Brand Management - 10. Other Projects/35_CVR optimization _ Lore/CVR call/2025-02/brand tables/CVR Brand Tables 0_Healthy Dog.pdf...\n",
            "Adding C:/Users/JamieHill/UNYBRANDS Operations Ltd/Brand Management - 10. Other Projects/35_CVR optimization _ Lore/CVR call/2025-02/brand tables/CVR Brand Tables 0_HUG.pdf...\n",
            "Adding C:/Users/JamieHill/UNYBRANDS Operations Ltd/Brand Management - 10. Other Projects/35_CVR optimization _ Lore/CVR call/2025-02/brand tables/CVR Brand Tables 0_Infloatables.pdf...\n",
            "Adding C:/Users/JamieHill/UNYBRANDS Operations Ltd/Brand Management - 10. Other Projects/35_CVR optimization _ Lore/CVR call/2025-02/brand tables/CVR Brand Tables 0_Invigorated.pdf...\n",
            "Adding C:/Users/JamieHill/UNYBRANDS Operations Ltd/Brand Management - 10. Other Projects/35_CVR optimization _ Lore/CVR call/2025-02/brand tables/CVR Brand Tables 0_Jiva.pdf...\n",
            "Adding C:/Users/JamieHill/UNYBRANDS Operations Ltd/Brand Management - 10. Other Projects/35_CVR optimization _ Lore/CVR call/2025-02/brand tables/CVR Brand Tables 0_Matana - Cups & Glasses.pdf...\n",
            "Adding C:/Users/JamieHill/UNYBRANDS Operations Ltd/Brand Management - 10. Other Projects/35_CVR optimization _ Lore/CVR call/2025-02/brand tables/CVR Brand Tables 0_Matana - Other.pdf...\n",
            "Adding C:/Users/JamieHill/UNYBRANDS Operations Ltd/Brand Management - 10. Other Projects/35_CVR optimization _ Lore/CVR call/2025-02/brand tables/CVR Brand Tables 0_Matana - Plates & Bowls.pdf...\n",
            "Adding C:/Users/JamieHill/UNYBRANDS Operations Ltd/Brand Management - 10. Other Projects/35_CVR optimization _ Lore/CVR call/2025-02/brand tables/CVR Brand Tables 0_Maxi.pdf...\n",
            "Adding C:/Users/JamieHill/UNYBRANDS Operations Ltd/Brand Management - 10. Other Projects/35_CVR optimization _ Lore/CVR call/2025-02/brand tables/CVR Brand Tables 0_Maxpower Planet.pdf...\n",
            "Adding C:/Users/JamieHill/UNYBRANDS Operations Ltd/Brand Management - 10. Other Projects/35_CVR optimization _ Lore/CVR call/2025-02/brand tables/CVR Brand Tables 0_Mighty Paw.pdf...\n",
            "Adding C:/Users/JamieHill/UNYBRANDS Operations Ltd/Brand Management - 10. Other Projects/35_CVR optimization _ Lore/CVR call/2025-02/brand tables/CVR Brand Tables 0_Oak & Steel.pdf...\n",
            "Adding C:/Users/JamieHill/UNYBRANDS Operations Ltd/Brand Management - 10. Other Projects/35_CVR optimization _ Lore/CVR call/2025-02/brand tables/CVR Brand Tables 0_PlantVital.pdf...\n",
            "Adding C:/Users/JamieHill/UNYBRANDS Operations Ltd/Brand Management - 10. Other Projects/35_CVR optimization _ Lore/CVR call/2025-02/brand tables/CVR Brand Tables 0_Pure Innovation.pdf...\n",
            "Adding C:/Users/JamieHill/UNYBRANDS Operations Ltd/Brand Management - 10. Other Projects/35_CVR optimization _ Lore/CVR call/2025-02/brand tables/CVR Brand Tables 0_Spark Pod.pdf...\n",
            "Adding C:/Users/JamieHill/UNYBRANDS Operations Ltd/Brand Management - 10. Other Projects/35_CVR optimization _ Lore/CVR call/2025-02/brand tables/CVR Brand Tables 0_SUNUV.pdf...\n",
            "Adding C:/Users/JamieHill/UNYBRANDS Operations Ltd/Brand Management - 10. Other Projects/35_CVR optimization _ Lore/CVR call/2025-02/brand tables/CVR Brand Tables 0_Twiddlers.pdf...\n",
            "Adding C:/Users/JamieHill/UNYBRANDS Operations Ltd/Brand Management - 10. Other Projects/35_CVR optimization _ Lore/CVR call/2025-02/brand tables/CVR Brand Tables 0_UBDYO.pdf...\n",
            "Adding C:/Users/JamieHill/UNYBRANDS Operations Ltd/Brand Management - 10. Other Projects/35_CVR optimization _ Lore/CVR call/2025-02/brand tables/CVR Brand Tables 0_Ultra Cuisine.pdf...\n",
            "Adding C:/Users/JamieHill/UNYBRANDS Operations Ltd/Brand Management - 10. Other Projects/35_CVR optimization _ Lore/CVR call/2025-02/brand tables/CVR Brand Tables 0_VNS Creations.pdf...\n",
            "Adding C:/Users/JamieHill/UNYBRANDS Operations Ltd/Brand Management - 10. Other Projects/35_CVR optimization _ Lore/CVR call/2025-02/brand tables/CVR Brand Tables 0_Zoey Supplies.pdf...\n",
            "PDFs merged successfully into merged_output.pdf\n"
          ]
        }
      ],
      "source": [
        "import os\n",
        "import tkinter as tk\n",
        "from tkinter import filedialog\n",
        "from PyPDF2 import PdfMerger\n",
        "\n",
        "def merge_pdfs():\n",
        "    # Open file dialog to select PDFs\n",
        "    root = tk.Tk()\n",
        "    root.withdraw()  # Hide main window\n",
        "    file_paths = filedialog.askopenfilenames(title=\"Select PDF files\", filetypes=[(\"PDF Files\", \"*.pdf\")])\n",
        "\n",
        "    if not file_paths:\n",
        "        print(\"No files selected. Exiting.\")\n",
        "        return\n",
        "\n",
        "    merger = PdfMerger()\n",
        "\n",
        "    for file_path in file_paths:\n",
        "        print(f\"Adding {file_path}...\")\n",
        "        merger.append(file_path)\n",
        "\n",
        "    output_filename = \"merged_output.pdf\"\n",
        "    merger.write(output_filename)\n",
        "    merger.close()\n",
        "\n",
        "    print(f\"PDFs merged successfully into {output_filename}\")\n",
        "\n",
        "    # Open the merged PDF automatically (Optional)\n",
        "    os.startfile(output_filename)  # Works on Windows; use `open` for macOS, `xdg-open` for Linux\n",
        "\n",
        "# Run the merge_pdfs function\n",
        "merge_pdfs()\n"
      ]
    }
  ],
  "metadata": {
    "colab": {
      "authorship_tag": "ABX9TyPie6kAT+nm9qucUD2oOB20",
      "include_colab_link": true,
      "provenance": []
    },
    "kernelspec": {
      "display_name": "Python 3",
      "name": "python3"
    },
    "language_info": {
      "codemirror_mode": {
        "name": "ipython",
        "version": 3
      },
      "file_extension": ".py",
      "mimetype": "text/x-python",
      "name": "python",
      "nbconvert_exporter": "python",
      "pygments_lexer": "ipython3",
      "version": "3.13.1"
    }
  },
  "nbformat": 4,
  "nbformat_minor": 0
}
