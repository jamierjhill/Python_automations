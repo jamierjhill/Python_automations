{
  "cells": [
    {
      "cell_type": "markdown",
      "metadata": {
        "colab_type": "text",
        "id": "view-in-github"
      },
      "source": [
        "<a href=\"https://colab.research.google.com/github/jamierjhill/Python_automations/blob/main/pdfmerger.ipynb\" target=\"_parent\"><img src=\"https://colab.research.google.com/assets/colab-badge.svg\" alt=\"Open In Colab\"/></a>"
      ]
    },
    {
      "cell_type": "code",
      "execution_count": 1,
      "metadata": {
        "colab": {
          "base_uri": "https://localhost:8080/",
          "height": 1000
        },
        "id": "v_ExIo5GERA5",
        "outputId": "311decda-ca5d-4de1-aae0-812492aa1fa4"
      },
      "outputs": [
        {
          "name": "stdout",
          "output_type": "stream",
          "text": [
            "Requirement already satisfied: PyPDF2 in c:\\users\\jamiehill\\appdata\\local\\programs\\python\\python313\\lib\\site-packages (3.0.1)\n"
          ]
        },
        {
          "ename": "ModuleNotFoundError",
          "evalue": "No module named 'google'",
          "output_type": "error",
          "traceback": [
            "\u001b[1;31m---------------------------------------------------------------------------\u001b[0m",
            "\u001b[1;31mModuleNotFoundError\u001b[0m                       Traceback (most recent call last)",
            "Cell \u001b[1;32mIn[1], line 4\u001b[0m\n\u001b[0;32m      1\u001b[0m get_ipython()\u001b[38;5;241m.\u001b[39msystem(\u001b[38;5;124m'\u001b[39m\u001b[38;5;124mpip install PyPDF2\u001b[39m\u001b[38;5;124m'\u001b[39m)\n\u001b[0;32m      3\u001b[0m \u001b[38;5;28;01mfrom\u001b[39;00m\u001b[38;5;250m \u001b[39m\u001b[38;5;21;01mPyPDF2\u001b[39;00m\u001b[38;5;250m \u001b[39m\u001b[38;5;28;01mimport\u001b[39;00m PdfMerger\n\u001b[1;32m----> 4\u001b[0m \u001b[38;5;28;01mfrom\u001b[39;00m\u001b[38;5;250m \u001b[39m\u001b[38;5;21;01mgoogle\u001b[39;00m\u001b[38;5;21;01m.\u001b[39;00m\u001b[38;5;21;01mcolab\u001b[39;00m\u001b[38;5;250m \u001b[39m\u001b[38;5;28;01mimport\u001b[39;00m files\n\u001b[0;32m      6\u001b[0m \u001b[38;5;28;01mdef\u001b[39;00m\u001b[38;5;250m \u001b[39m\u001b[38;5;21mmerge_pdfs\u001b[39m():\n\u001b[0;32m      7\u001b[0m     \u001b[38;5;28mprint\u001b[39m(\u001b[38;5;124m\"\u001b[39m\u001b[38;5;124mPlease upload PDF files to merge. Once done, click on the \u001b[39m\u001b[38;5;124m'\u001b[39m\u001b[38;5;124mChoose Files\u001b[39m\u001b[38;5;124m'\u001b[39m\u001b[38;5;124m button again to stop the file selection.\u001b[39m\u001b[38;5;124m\"\u001b[39m)\n",
            "\u001b[1;31mModuleNotFoundError\u001b[0m: No module named 'google'"
          ]
        }
      ],
      "source": [
        "!pip install PyPDF2\n",
        "\n",
        "from PyPDF2 import PdfMerger\n",
        "from google.colab import files\n",
        "\n",
        "def merge_pdfs():\n",
        "    print(\"Please upload PDF files to merge. Once done, click on the 'Choose Files' button again to stop the file selection.\")\n",
        "    uploaded_files = files.upload()  # User uploads PDF files\n",
        "\n",
        "    if not uploaded_files:\n",
        "        print(\"No files uploaded. Exiting.\")\n",
        "        return\n",
        "\n",
        "    merger = PdfMerger()\n",
        "\n",
        "    for file_name in uploaded_files.keys():\n",
        "        print(f\"Adding {file_name}...\")\n",
        "        merger.append(file_name)\n",
        "\n",
        "    output_filename = \"merged_output.pdf\"\n",
        "    merger.write(output_filename)\n",
        "    merger.close()\n",
        "\n",
        "    print(f\"PDFs merged successfully into {output_filename}\")\n",
        "\n",
        "    files.download(output_filename)  # Provide the merged PDF for download\n",
        "\n",
        "# Run the merge_pdfs function\n",
        "merge_pdfs()"
      ]
    }
  ],
  "metadata": {
    "colab": {
      "authorship_tag": "ABX9TyPie6kAT+nm9qucUD2oOB20",
      "include_colab_link": true,
      "provenance": []
    },
    "kernelspec": {
      "display_name": "Python 3",
      "name": "python3"
    },
    "language_info": {
      "codemirror_mode": {
        "name": "ipython",
        "version": 3
      },
      "file_extension": ".py",
      "mimetype": "text/x-python",
      "name": "python",
      "nbconvert_exporter": "python",
      "pygments_lexer": "ipython3",
      "version": "3.13.1"
    }
  },
  "nbformat": 4,
  "nbformat_minor": 0
}
