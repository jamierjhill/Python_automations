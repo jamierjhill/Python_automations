{
 "cells": [
  {
   "cell_type": "code",
   "execution_count": 4,
   "metadata": {},
   "outputs": [
    {
     "name": "stdout",
     "output_type": "stream",
     "text": [
      "Error reading consolidated.xlsx: File is not a zip file\n",
      "Consolidation complete! Saved to C:/Users/JamieHill/OneDrive - UNYBRANDS Operations Ltd/Documents/Python Code Test/consolidated.xlsx\n"
     ]
    }
   ],
   "source": [
    "import os\n",
    "import pandas as pd\n",
    "from openpyxl import load_workbook\n",
    "\n",
    "def consolidate_excel_files(source_folder, output_file, sheet_name):\n",
    "    with pd.ExcelWriter(output_file, engine='openpyxl') as writer:\n",
    "        # Loop through each file in the source folder\n",
    "        for file in os.listdir(source_folder):\n",
    "            if file.endswith(\".xlsx\") and not file.startswith(\"~\"):  # Ignore temporary files\n",
    "                file_path = os.path.join(source_folder, file)\n",
    "                \n",
    "                try:\n",
    "                    # Read the specific sheet as a DataFrame\n",
    "                    df = pd.read_excel(file_path, sheet_name=sheet_name, engine='openpyxl')\n",
    "                    sheet_title = os.path.splitext(file)[0]  # Use file name as sheet name\n",
    "                    df.to_excel(writer, sheet_name=sheet_title, index=False)\n",
    "                except Exception as e:\n",
    "                    print(f\"Error reading {file}: {e}\")\n",
    "    \n",
    "    print(f\"Consolidation complete! Saved to {output_file}\")\n",
    "\n",
    "# Example usage\n",
    "source_folder = \""  # Update with actual path\n",
    "output_file = \""  # Update with desired output file\n",
    "sheet_name = \"Model Tab\"  # Update with the specific sheet name\n",
    "\n",
    "consolidate_excel_files(source_folder, output_file, sheet_name)"
   ]
  }
 ],
 "metadata": {
  "kernelspec": {
   "display_name": "Python 3",
   "language": "python",
   "name": "python3"
  },
  "language_info": {
   "codemirror_mode": {
    "name": "ipython",
    "version": 3
   },
   "file_extension": ".py",
   "mimetype": "text/x-python",
   "name": "python",
   "nbconvert_exporter": "python",
   "pygments_lexer": "ipython3",
   "version": "3.13.1"
  }
 },
 "nbformat": 4,
 "nbformat_minor": 2
}
